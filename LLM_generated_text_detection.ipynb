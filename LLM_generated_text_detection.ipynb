{
  "nbformat": 4,
  "nbformat_minor": 0,
  "metadata": {
    "colab": {
      "provenance": []
    },
    "kernelspec": {
      "name": "python3",
      "display_name": "Python 3"
    },
    "language_info": {
      "name": "python"
    }
  },
  "cells": [
    {
      "cell_type": "code",
      "source": [
        "import pandas as pd\n",
        "from sklearn.model_selection import train_test_split\n",
        "from sklearn.feature_extraction.text import TfidfVectorizer\n",
        "from sklearn.ensemble import RandomForestClassifier\n",
        "from sklearn.metrics import roc_auc_score, accuracy_score\n",
        "from sklearn.pipeline import make_pipeline\n",
        "\n",
        "# Load your training data (you might need to preprocess it accordingly)\n",
        "train_data = pd.read_csv(\"/content/train_essays.csv\")\n",
        "\n",
        "# Split the data into training and validation sets\n",
        "train_set, validation_set = train_test_split(train_data, test_size=0.2, random_state=42)\n",
        "\n",
        "# Create a pipeline with a TF-IDF vectorizer and a random forest classifier\n",
        "model = make_pipeline(\n",
        "    TfidfVectorizer(max_features=5000),\n",
        "    RandomForestClassifier(n_estimators=100, random_state=42)\n",
        ")\n",
        "\n",
        "# Train the model using the 'text' column as the feature and 'generated' column as the target\n",
        "model.fit(train_set['text'], train_set['generated'])\n",
        "\n",
        "# Make predictions on the validation set\n",
        "validation_predictions = model.predict_proba(validation_set['text'])[:, 1]\n",
        "\n",
        "# Evaluate the model using ROC AUC score on the validation set\n",
        "roc_auc = roc_auc_score(validation_set['generated'], validation_predictions)\n",
        "print(f\"Validation ROC AUC: {roc_auc}\")\n",
        "\n",
        "# Predict the binary class (0 or 1) on the validation set\n",
        "validation_predictions_binary = (validation_predictions > 0.5).astype(int)\n",
        "\n",
        "# Calculate the accuracy on the validation set\n",
        "accuracy = accuracy_score(validation_set['generated'], validation_predictions_binary)\n",
        "print(f\"Validation Accuracy: {accuracy}\")\n",
        "\n",
        "# Load your test data\n",
        "test_data = pd.read_csv(\"/content/test_essays.csv\")\n",
        "\n",
        "# Make predictions on the test set\n",
        "test_predictions = model.predict_proba(test_data['text'])[:, 1]\n",
        "\n",
        "# Create a submission file\n",
        "submission_df = pd.DataFrame({'id': test_data['id'], 'generated': test_predictions})\n",
        "submission_df.to_csv(\"submission.csv\", index=False)\n"
      ],
      "metadata": {
        "colab": {
          "base_uri": "https://localhost:8080/"
        },
        "id": "4Q6VxwyWz1Vc",
        "outputId": "97b7eff4-5184-48e8-900a-ab3e850f099f"
      },
      "execution_count": null,
      "outputs": [
        {
          "output_type": "stream",
          "name": "stdout",
          "text": [
            "Validation ROC AUC: 0.9127272727272727\n",
            "Validation Accuracy: 0.9963768115942029\n"
          ]
        }
      ]
    },
    {
      "cell_type": "code",
      "source": [
        "# Download the file\n",
        "from google.colab import files\n",
        "files.download(\"submission.csv\")\n"
      ],
      "metadata": {
        "colab": {
          "base_uri": "https://localhost:8080/",
          "height": 17
        },
        "id": "nh_eB1UX9WIs",
        "outputId": "a18f0122-a7b1-4caa-9f80-07a6e8b6e769"
      },
      "execution_count": null,
      "outputs": [
        {
          "output_type": "display_data",
          "data": {
            "text/plain": [
              "<IPython.core.display.Javascript object>"
            ],
            "application/javascript": [
              "\n",
              "    async function download(id, filename, size) {\n",
              "      if (!google.colab.kernel.accessAllowed) {\n",
              "        return;\n",
              "      }\n",
              "      const div = document.createElement('div');\n",
              "      const label = document.createElement('label');\n",
              "      label.textContent = `Downloading \"${filename}\": `;\n",
              "      div.appendChild(label);\n",
              "      const progress = document.createElement('progress');\n",
              "      progress.max = size;\n",
              "      div.appendChild(progress);\n",
              "      document.body.appendChild(div);\n",
              "\n",
              "      const buffers = [];\n",
              "      let downloaded = 0;\n",
              "\n",
              "      const channel = await google.colab.kernel.comms.open(id);\n",
              "      // Send a message to notify the kernel that we're ready.\n",
              "      channel.send({})\n",
              "\n",
              "      for await (const message of channel.messages) {\n",
              "        // Send a message to notify the kernel that we're ready.\n",
              "        channel.send({})\n",
              "        if (message.buffers) {\n",
              "          for (const buffer of message.buffers) {\n",
              "            buffers.push(buffer);\n",
              "            downloaded += buffer.byteLength;\n",
              "            progress.value = downloaded;\n",
              "          }\n",
              "        }\n",
              "      }\n",
              "      const blob = new Blob(buffers, {type: 'application/binary'});\n",
              "      const a = document.createElement('a');\n",
              "      a.href = window.URL.createObjectURL(blob);\n",
              "      a.download = filename;\n",
              "      div.appendChild(a);\n",
              "      a.click();\n",
              "      div.remove();\n",
              "    }\n",
              "  "
            ]
          },
          "metadata": {}
        },
        {
          "output_type": "display_data",
          "data": {
            "text/plain": [
              "<IPython.core.display.Javascript object>"
            ],
            "application/javascript": [
              "download(\"download_169e876d-b590-4679-8ce5-e46524ceb4a7\", \"submission.csv\", 52)"
            ]
          },
          "metadata": {}
        }
      ]
    },
    {
      "cell_type": "code",
      "source": [
        "# Import necessary libraries\n",
        "import pandas as pd\n",
        "from sklearn.model_selection import train_test_split\n",
        "from sklearn.feature_extraction.text import TfidfVectorizer\n",
        "from sklearn.ensemble import RandomForestClassifier\n",
        "from sklearn.metrics import roc_auc_score\n",
        "from sklearn.pipeline import make_pipeline\n",
        "\n",
        "# Load the training data\n",
        "train_data = pd.read_csv(\"/content/train_essays.csv\")\n",
        "\n",
        "# Split the data into training and validation sets\n",
        "train_set, validation_set = train_test_split(train_data, test_size=0.2, random_state=42)\n",
        "\n",
        "# Create a pipeline with a TF-IDF vectorizer and a random forest classifier\n",
        "model = make_pipeline(\n",
        "    TfidfVectorizer(max_features=5000),\n",
        "    RandomForestClassifier(n_estimators=100, random_state=42)\n",
        ")\n",
        "\n",
        "# Train the model using the 'text' column as the feature and 'generated' column as the target\n",
        "model.fit(train_set['text'], train_set['generated'])\n",
        "\n",
        "# Make predictions on the validation set\n",
        "validation_predictions = model.predict_proba(validation_set['text'])[:, 1]\n",
        "\n",
        "# Evaluate the model using ROC AUC score on the validation set\n",
        "roc_auc = roc_auc_score(validation_set['generated'], validation_predictions)\n",
        "print(f\"Validation ROC AUC: {roc_auc}\")\n",
        "\n",
        "# Load the test data\n",
        "test_data = pd.read_csv(\"/content/test_essays.csv\")\n",
        "\n",
        "# Make predictions on the test set\n",
        "test_predictions = model.predict_proba(test_data['text'])[:, 1]\n",
        "\n",
        "# Create a submission file\n",
        "submission_df = pd.DataFrame({'id': test_data['id'], 'generated': test_predictions})\n",
        "submission_df.to_csv(\"submission.csv\", index=False)\n"
      ],
      "metadata": {
        "colab": {
          "base_uri": "https://localhost:8080/"
        },
        "id": "Ox2NcjkXDpKp",
        "outputId": "f5117c6c-92ab-4cc8-bd59-b7d21b8ee89c"
      },
      "execution_count": null,
      "outputs": [
        {
          "output_type": "stream",
          "name": "stdout",
          "text": [
            "Validation ROC AUC: 0.9127272727272727\n"
          ]
        }
      ]
    },
    {
      "cell_type": "code",
      "source": [
        "# Download the file\n",
        "from google.colab import files\n",
        "files.download(\"submission.csv\")"
      ],
      "metadata": {
        "colab": {
          "base_uri": "https://localhost:8080/",
          "height": 17
        },
        "id": "I2sOveo1D5Js",
        "outputId": "9f66c320-b6f2-4c29-815c-99a401ac49bf"
      },
      "execution_count": null,
      "outputs": [
        {
          "output_type": "display_data",
          "data": {
            "text/plain": [
              "<IPython.core.display.Javascript object>"
            ],
            "application/javascript": [
              "\n",
              "    async function download(id, filename, size) {\n",
              "      if (!google.colab.kernel.accessAllowed) {\n",
              "        return;\n",
              "      }\n",
              "      const div = document.createElement('div');\n",
              "      const label = document.createElement('label');\n",
              "      label.textContent = `Downloading \"${filename}\": `;\n",
              "      div.appendChild(label);\n",
              "      const progress = document.createElement('progress');\n",
              "      progress.max = size;\n",
              "      div.appendChild(progress);\n",
              "      document.body.appendChild(div);\n",
              "\n",
              "      const buffers = [];\n",
              "      let downloaded = 0;\n",
              "\n",
              "      const channel = await google.colab.kernel.comms.open(id);\n",
              "      // Send a message to notify the kernel that we're ready.\n",
              "      channel.send({})\n",
              "\n",
              "      for await (const message of channel.messages) {\n",
              "        // Send a message to notify the kernel that we're ready.\n",
              "        channel.send({})\n",
              "        if (message.buffers) {\n",
              "          for (const buffer of message.buffers) {\n",
              "            buffers.push(buffer);\n",
              "            downloaded += buffer.byteLength;\n",
              "            progress.value = downloaded;\n",
              "          }\n",
              "        }\n",
              "      }\n",
              "      const blob = new Blob(buffers, {type: 'application/binary'});\n",
              "      const a = document.createElement('a');\n",
              "      a.href = window.URL.createObjectURL(blob);\n",
              "      a.download = filename;\n",
              "      div.appendChild(a);\n",
              "      a.click();\n",
              "      div.remove();\n",
              "    }\n",
              "  "
            ]
          },
          "metadata": {}
        },
        {
          "output_type": "display_data",
          "data": {
            "text/plain": [
              "<IPython.core.display.Javascript object>"
            ],
            "application/javascript": [
              "download(\"download_c36d7696-0152-4ab7-94eb-ae4d2541f9f8\", \"submission.csv\", 52)"
            ]
          },
          "metadata": {}
        }
      ]
    }
  ]
}